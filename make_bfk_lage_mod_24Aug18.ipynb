{
 "cells": [
  {
   "cell_type": "markdown",
   "metadata": {},
   "source": [
    "## Starting with Michael Wood-Vasey's notebook as a starting point\n",
    "## Craig Lage - 24Aug18\n",
    "\n",
    "## Make a brighter-fatter kernel from a set of high-intensity flats measured at UC Davis.\n",
    "Michael Wood-Vasey  (2018-08-21)\n",
    "\n",
    "1. Set up a basic repo with the raw flats\n",
    "2. Use  `MakeBrighterFatterKernelTask` to construct a BF kernel\n",
    "3. Visualize the kernels and compare PhoSim, ImSim, HSC, and lab-based ITL.\n",
    "\n",
    "With substantial help from Merlin Fisher-Levine."
   ]
  },
  {
   "cell_type": "code",
   "execution_count": 1,
   "metadata": {},
   "outputs": [
    {
     "name": "stdout",
     "output_type": "stream",
     "text": [
      "\n",
      "lsst_distrib          16.0+1     \tcurrent o_latest v16_0 setup\n"
     ]
    }
   ],
   "source": [
    "# What version of the Stack am I using?\n",
    "! echo $HOSTNAME\n",
    "! eups list -s | grep lsst_distrib"
   ]
  },
  {
   "cell_type": "code",
   "execution_count": 2,
   "metadata": {},
   "outputs": [],
   "source": [
    "import numpy as np\n",
    "import matplotlib.pyplot as plt\n",
    "# if running stack v16.0, silence a long matplotlib Agg warning with:\n",
    "import warnings\n",
    "warnings.filterwarnings(\"ignore\", category=UserWarning)\n"
   ]
  },
  {
   "cell_type": "code",
   "execution_count": 3,
   "metadata": {},
   "outputs": [],
   "source": [
    "# Test to make sure that we can import obs_lsstCam\n",
    "import lsst.obs.base\n",
    "import lsst.obs.lsstCam"
   ]
  },
  {
   "cell_type": "code",
   "execution_count": 4,
   "metadata": {},
   "outputs": [],
   "source": [
    "from makeBrighterFatterKernel import MakeBrighterFatterKernelTask\n",
    "# Just copied the .py file into my directory.  Is this OK?\n",
    "from lsst.daf.persistence import Butler\n",
    "from lsst.pipe.tasks.ingest import IngestTask\n"
   ]
  },
  {
   "cell_type": "code",
   "execution_count": 5,
   "metadata": {},
   "outputs": [
    {
     "name": "stdout",
     "output_type": "stream",
     "text": [
      "/sandbox/cslage/Research/LSST/code/notebooks/DC2_Notebooks\n"
     ]
    }
   ],
   "source": [
    "!pwd"
   ]
  },
  {
   "cell_type": "markdown",
   "metadata": {},
   "source": [
    "## Try to Ingest some flats from UC Davis measurements"
   ]
  },
  {
   "cell_type": "code",
   "execution_count": 6,
   "metadata": {},
   "outputs": [
    {
     "name": "stdout",
     "output_type": "stream",
     "text": [
      "/mnt/storm-lsst/GUI/20180514_002_flats_3/ITL-3800C-002_flat_flat_100_20180514141655.fits\n"
     ]
    }
   ],
   "source": [
    "!ls /mnt/storm-lsst/GUI/20180514_002_flats_3/ITL-3800C-002_flat_flat_100_20180514??????.fits"
   ]
  },
  {
   "cell_type": "code",
   "execution_count": 7,
   "metadata": {},
   "outputs": [
    {
     "name": "stdout",
     "output_type": "stream",
     "text": [
      "root INFO: Loading config overrride file '/sandbox/lsstshared/v16_0/obs_lsstCam/config/ingest.py'\n",
      "LsstCamMapper WARN: Unable to find calib root directory\n",
      "CameraMapper INFO: Loading Posix exposure registry from /sandbox/cslage/Research/LSST/code/notebooks/DC2_Notebooks/ucd_repo\n",
      "ingest INFO: /mnt/storm-lsst/GUI/20180514_002_flats_3/ITL-3800C-002_flat_flat_100_20180514141655.fits --<link>--> /sandbox/cslage/Research/LSST/code/notebooks/DC2_Notebooks/ucd_repo/raw/100/R21/00000100-R21-S11-det085-000.fits\n",
      "ingest INFO: /mnt/storm-lsst/GUI/20180514_002_flats_3/ITL-3800C-002_flat_flat_200_20180514143548.fits --<link>--> /sandbox/cslage/Research/LSST/code/notebooks/DC2_Notebooks/ucd_repo/raw/200/R21/00000200-R21-S11-det085-000.fits\n",
      "ingest INFO: /mnt/storm-lsst/GUI/20180514_002_flats_3/ITL-3800C-002_flat_flat_300_20180514145807.fits --<link>--> /sandbox/cslage/Research/LSST/code/notebooks/DC2_Notebooks/ucd_repo/raw/300/R21/00000300-R21-S11-det085-000.fits\n",
      "ingest INFO: /mnt/storm-lsst/GUI/20180514_002_flats_3/ITL-3800C-002_flat_flat_400_20180514152344.fits --<link>--> /sandbox/cslage/Research/LSST/code/notebooks/DC2_Notebooks/ucd_repo/raw/400/R21/00000400-R21-S11-det085-000.fits\n",
      "ingest INFO: /mnt/storm-lsst/GUI/20180514_002_flats_3/ITL-3800C-002_flat_flat_500_20180514155238.fits --<link>--> /sandbox/cslage/Research/LSST/code/notebooks/DC2_Notebooks/ucd_repo/raw/500/R21/00000500-R21-S11-det085-000.fits\n",
      "root INFO: Loading config overrride file '/sandbox/lsstshared/v16_0/obs_lsstCam/config/ingest.py'\n",
      "LsstCamMapper WARN: Unable to find calib root directory\n",
      "CameraMapper INFO: Loading exposure registry from /sandbox/cslage/Research/LSST/code/notebooks/DC2_Notebooks/ucd_repo/registry.sqlite3\n",
      "ingest INFO: /mnt/storm-lsst/GUI/20180514_002_flats_3/ITL-3800C-002_flat_flat_101_20180514141706.fits --<link>--> /sandbox/cslage/Research/LSST/code/notebooks/DC2_Notebooks/ucd_repo/raw/101/R21/00000101-R21-S11-det085-000.fits\n",
      "ingest INFO: /mnt/storm-lsst/GUI/20180514_002_flats_3/ITL-3800C-002_flat_flat_201_20180514143602.fits --<link>--> /sandbox/cslage/Research/LSST/code/notebooks/DC2_Notebooks/ucd_repo/raw/201/R21/00000201-R21-S11-det085-000.fits\n",
      "ingest INFO: /mnt/storm-lsst/GUI/20180514_002_flats_3/ITL-3800C-002_flat_flat_301_20180514145823.fits --<link>--> /sandbox/cslage/Research/LSST/code/notebooks/DC2_Notebooks/ucd_repo/raw/301/R21/00000301-R21-S11-det085-000.fits\n",
      "ingest INFO: /mnt/storm-lsst/GUI/20180514_002_flats_3/ITL-3800C-002_flat_flat_401_20180514152401.fits --<link>--> /sandbox/cslage/Research/LSST/code/notebooks/DC2_Notebooks/ucd_repo/raw/401/R21/00000401-R21-S11-det085-000.fits\n",
      "ingest INFO: /mnt/storm-lsst/GUI/20180514_002_flats_3/ITL-3800C-002_flat_flat_501_20180514155257.fits --<link>--> /sandbox/cslage/Research/LSST/code/notebooks/DC2_Notebooks/ucd_repo/raw/501/R21/00000501-R21-S11-det085-000.fits\n"
     ]
    }
   ],
   "source": [
    "!rm -rf ucd_repo\n",
    "! mkdir ucd_repo\n",
    "! echo \"lsst.obs.lsstCam.LsstCamMapper\" > ucd_repo/_mapper\n",
    "\n",
    "# Ingest the  flats. The ?00 and ?01 are the flat pairs\n",
    "! ingestImages.py ucd_repo /mnt/storm-lsst/GUI/20180514_002_flats_3/ITL-3800C-002_flat_flat_?00_20180514??????.fits --mode link\n",
    "! ingestImages.py ucd_repo /mnt/storm-lsst/GUI/20180514_002_flats_3/ITL-3800C-002_flat_flat_?01_20180514??????.fits --mode link"
   ]
  },
  {
   "cell_type": "code",
   "execution_count": 9,
   "metadata": {},
   "outputs": [],
   "source": [
    "butler = Butler('ucd_repo')"
   ]
  },
  {
   "cell_type": "markdown",
   "metadata": {},
   "source": [
    "So I got this far, and it seems to have successfully ingested the images.  So far, all I have done is:\n",
    "\n",
    "     (1) edit obs_lsstCam/config/ingest.py to use some different header values\n",
    "     (2) edit obs_lsstCam/python/lsst/obs/lsstCam/ingest.py to work with these different values and \n",
    "     to fudge the raft and sensor IDs.\n",
    "    \n",
    "\n",
    "It's encouraging that I created a butler, but is the right information there???"
   ]
  },
  {
   "cell_type": "code",
   "execution_count": 10,
   "metadata": {},
   "outputs": [
    {
     "name": "stdout",
     "output_type": "stream",
     "text": [
      "[(100, 85, 'R'), (101, 85, 'R'), (200, 85, 'R'), (201, 85, 'R'), (300, 85, 'R'), (301, 85, 'R'), (400, 85, 'R'), (401, 85, 'R'), (500, 85, 'R'), (501, 85, 'R')]\n",
      "False\n"
     ]
    }
   ],
   "source": [
    "print(butler.queryMetadata('src', ['visit', 'detector', 'filter']))\n",
    "print(butler.datasetExists('src'))\n"
   ]
  },
  {
   "cell_type": "markdown",
   "metadata": {},
   "source": [
    "Why doesn't the dataset exist???\n",
    "\n",
    "Try calculating the brighter-fatter kernel using `MakeBrighterFatterKernelTask`. "
   ]
  },
  {
   "cell_type": "code",
   "execution_count": 11,
   "metadata": {},
   "outputs": [
    {
     "name": "stdout",
     "output_type": "stream",
     "text": [
      "makeBrighterFatterKernel.py ucd_repo --rerun test --id detector={} --visit-pairs 100,101 200,201 300,301 400,401 500,501 -c xcorrCheckRejectLevel=2 doCalcGains=True --clobber-config --clobber-versions\n"
     ]
    },
    {
     "name": "stderr",
     "output_type": "stream",
     "text": [
      "usage: ipykernel_launcher.py input [options]\n",
      "ipykernel_launcher.py: error: 'Cannot get keys for datasetType brighterFatterKernelNew at level None'\n"
     ]
    },
    {
     "ename": "SystemExit",
     "evalue": "2",
     "output_type": "error",
     "traceback": [
      "An exception has occurred, use %tb to see the full traceback.\n",
      "\u001b[0;31mSystemExit\u001b[0m\u001b[0;31m:\u001b[0m 2\n"
     ]
    }
   ],
   "source": [
    "args = ['ucd_repo', '--rerun', 'test',\n",
    "        '--id', 'detector={}',\n",
    "        '--visit-pairs', '100,101', '200,201', '300,301', '400,401', '500,501',\n",
    "        '-c',\n",
    "        'xcorrCheckRejectLevel=2', 'doCalcGains=True',\n",
    "        '--clobber-config', '--clobber-versions'\n",
    "       ]\n",
    "\n",
    "command_line = 'makeBrighterFatterKernel.py ' + ' '.join(args)\n",
    "print(command_line)\n",
    "\n",
    "ucd_pb_struct = MakeBrighterFatterKernelTask.parseAndRun(args=args)"
   ]
  },
  {
   "cell_type": "markdown",
   "metadata": {},
   "source": [
    "Ignore warnings."
   ]
  }
 ],
 "metadata": {
  "kernelspec": {
   "display_name": "Python 3",
   "language": "python",
   "name": "python3"
  },
  "language_info": {
   "codemirror_mode": {
    "name": "ipython",
    "version": 3
   },
   "file_extension": ".py",
   "mimetype": "text/x-python",
   "name": "python",
   "nbconvert_exporter": "python",
   "pygments_lexer": "ipython3",
   "version": "3.6.2"
  }
 },
 "nbformat": 4,
 "nbformat_minor": 2
}
